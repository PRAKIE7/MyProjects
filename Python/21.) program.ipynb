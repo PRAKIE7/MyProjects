{
 "cells": [
  {
   "cell_type": "code",
   "execution_count": 1,
   "id": "17379ea3",
   "metadata": {},
   "outputs": [
    {
     "name": "stdout",
     "output_type": "stream",
     "text": [
      "2\n",
      "a?c\n",
      "??b\n",
      "1 3\n",
      "???a\n",
      "???a\n",
      "0 3\n"
     ]
    }
   ],
   "source": [
    "n = int(input())\n",
    "for i in range(n):\n",
    "    s1 = input()\n",
    "    s2 = input()\n",
    "    max1 = 0\n",
    "    min1 = 0\n",
    "    length = len(s1)\n",
    "    for  i in range(length):\n",
    "        if s1[i]=='?' or s2[i]=='?':\n",
    "            max1+=1\n",
    "        elif s1[i]!=s2[i]:\n",
    "            max1+=1\n",
    "            min1+=1\n",
    "    print(min1,max1)"
   ]
  },
  {
   "cell_type": "code",
   "execution_count": null,
   "id": "5613fef7",
   "metadata": {},
   "outputs": [],
   "source": []
  }
 ],
 "metadata": {
  "kernelspec": {
   "display_name": "Python 3 (ipykernel)",
   "language": "python",
   "name": "python3"
  },
  "language_info": {
   "codemirror_mode": {
    "name": "ipython",
    "version": 3
   },
   "file_extension": ".py",
   "mimetype": "text/x-python",
   "name": "python",
   "nbconvert_exporter": "python",
   "pygments_lexer": "ipython3",
   "version": "3.9.7"
  }
 },
 "nbformat": 4,
 "nbformat_minor": 5
}
