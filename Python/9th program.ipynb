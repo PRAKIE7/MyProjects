{
 "cells": [
  {
   "cell_type": "code",
   "execution_count": 12,
   "id": "397ad927",
   "metadata": {},
   "outputs": [
    {
     "name": "stdout",
     "output_type": "stream",
     "text": [
      "3\n",
      "1\n",
      "99\n",
      "25\n",
      "75\n",
      "100\n",
      "0\n"
     ]
    }
   ],
   "source": [
    "t= int(input())\n",
    "for i in range(0, t):\n",
    "    a=100\n",
    "    b=int(input())\n",
    "    rec= a - b\n",
    "    print(rec)"
   ]
  },
  {
   "cell_type": "code",
   "execution_count": null,
   "id": "1722b38c",
   "metadata": {},
   "outputs": [],
   "source": []
  }
 ],
 "metadata": {
  "kernelspec": {
   "display_name": "Python 3 (ipykernel)",
   "language": "python",
   "name": "python3"
  },
  "language_info": {
   "codemirror_mode": {
    "name": "ipython",
    "version": 3
   },
   "file_extension": ".py",
   "mimetype": "text/x-python",
   "name": "python",
   "nbconvert_exporter": "python",
   "pygments_lexer": "ipython3",
   "version": "3.9.7"
  }
 },
 "nbformat": 4,
 "nbformat_minor": 5
}
