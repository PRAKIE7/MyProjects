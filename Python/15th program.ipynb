{
 "cells": [
  {
   "cell_type": "code",
   "execution_count": 1,
   "id": "5d99709e",
   "metadata": {},
   "outputs": [
    {
     "name": "stdout",
     "output_type": "stream",
     "text": [
      "4\n",
      "1\n",
      "2\n",
      "3\n",
      "4\n",
      "Yes\n",
      "4\n",
      "3\n",
      "2\n",
      "1\n",
      "No\n",
      "2\n",
      "18\n",
      "9\n",
      "4\n",
      "Yes\n",
      "1\n",
      "100\n",
      "2\n",
      "49\n",
      "No\n"
     ]
    }
   ],
   "source": [
    "t= int(input())\n",
    "for i in range(0, t):\n",
    "    A=int(input())\n",
    "    B=int(input())\n",
    "    X=int(input())\n",
    "    Y=int(input())\n",
    "    if(X*Y >= A*B):\n",
    "        print(\"Yes\")\n",
    "    else:\n",
    "        print(\"No\")"
   ]
  }
 ],
 "metadata": {
  "kernelspec": {
   "display_name": "Python 3 (ipykernel)",
   "language": "python",
   "name": "python3"
  },
  "language_info": {
   "codemirror_mode": {
    "name": "ipython",
    "version": 3
   },
   "file_extension": ".py",
   "mimetype": "text/x-python",
   "name": "python",
   "nbconvert_exporter": "python",
   "pygments_lexer": "ipython3",
   "version": "3.9.7"
  }
 },
 "nbformat": 4,
 "nbformat_minor": 5
}
