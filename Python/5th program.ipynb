{
 "cells": [
  {
   "cell_type": "code",
   "execution_count": 4,
   "id": "a7a28020-36cb-4b7c-8bcf-917d63b07283",
   "metadata": {},
   "outputs": [
    {
     "name": "stdout",
     "output_type": "stream",
     "text": [
      "he\"llo\n",
      "2401402339760\n"
     ]
    }
   ],
   "source": [
    "name='he\"llo'\n",
    "print(name)\n",
    "print(id(name))"
   ]
  },
  {
   "cell_type": "code",
   "execution_count": 6,
   "id": "fe03f54e-e4e6-45ba-846c-7845e89319fb",
   "metadata": {},
   "outputs": [
    {
     "data": {
      "text/plain": [
       "2401397988144"
      ]
     },
     "execution_count": 6,
     "metadata": {},
     "output_type": "execute_result"
    }
   ],
   "source": [
    "name='hello'\n",
    "name\n",
    "id(name)"
   ]
  },
  {
   "cell_type": "code",
   "execution_count": 8,
   "id": "b8680e1b-b7cd-4920-ac6d-6da4b7a9f8b0",
   "metadata": {},
   "outputs": [
    {
     "name": "stdout",
     "output_type": "stream",
     "text": [
      "hellog\n"
     ]
    }
   ],
   "source": [
    "name+='g'\n",
    "print(name)"
   ]
  },
  {
   "cell_type": "code",
   "execution_count": 9,
   "id": "f7dfacda-a5c8-411f-9004-5b0ba5a11961",
   "metadata": {},
   "outputs": [
    {
     "name": "stdout",
     "output_type": "stream",
     "text": [
      "280\n"
     ]
    }
   ],
   "source": [
    "A= '25'\n",
    "B= A + '5'\n",
    "C= int(A) + int(B)\n",
    "print(C)"
   ]
  },
  {
   "cell_type": "code",
   "execution_count": 12,
   "id": "9b6a65c3-9cd8-478e-8c2b-379296c98500",
   "metadata": {},
   "outputs": [
    {
     "data": {
      "text/plain": [
       "[2, 3, 4, 5, 10]"
      ]
     },
     "execution_count": 12,
     "metadata": {},
     "output_type": "execute_result"
    }
   ],
   "source": [
    "#List in python\n",
    "LIST=[2,3,4,5,10]\n",
    "LIST"
   ]
  },
  {
   "cell_type": "code",
   "execution_count": 14,
   "id": "a68c41a2-39ca-4c2d-ba32-3bf9fa33936d",
   "metadata": {},
   "outputs": [
    {
     "name": "stdout",
     "output_type": "stream",
     "text": [
      "[1, 2, 3, 'PRAKIE', '$']\n"
     ]
    }
   ],
   "source": [
    "List=[1,2,3,'PRAKIE','$']\n",
    "print(List)"
   ]
  },
  {
   "cell_type": "code",
   "execution_count": 15,
   "id": "86072999-9391-41a7-a9dc-cb2a692c14f3",
   "metadata": {},
   "outputs": [
    {
     "data": {
      "text/plain": [
       "[100, 2, 3, 'PRAKIE', '$']"
      ]
     },
     "execution_count": 15,
     "metadata": {},
     "output_type": "execute_result"
    }
   ],
   "source": [
    "List[0]=100\n",
    "List"
   ]
  },
  {
   "cell_type": "code",
   "execution_count": 19,
   "id": "ec2963f9-1461-4b87-8167-d7dc43f24c5a",
   "metadata": {},
   "outputs": [
    {
     "data": {
      "text/plain": [
       "[100, 2, 3, 'B', '$']"
      ]
     },
     "execution_count": 19,
     "metadata": {},
     "output_type": "execute_result"
    }
   ],
   "source": [
    "List[3]='B'\n",
    "List"
   ]
  },
  {
   "cell_type": "code",
   "execution_count": 24,
   "id": "fb9f7c17-4ae1-4e4a-8fdf-53e937680406",
   "metadata": {},
   "outputs": [
    {
     "name": "stdout",
     "output_type": "stream",
     "text": [
      "(1, 2, 3, 4, [100, 2, 3, 'B', '$'])\n"
     ]
    }
   ],
   "source": [
    "#Tuples in python\n",
    "tuple=(1,2,3,4,5)\n",
    "tuple\n",
    "tuple=(1,2,3,4,List)\n",
    "print(tuple)"
   ]
  },
  {
   "cell_type": "code",
   "execution_count": 28,
   "id": "cb23e726-55e6-4224-a7bb-04473f3cd229",
   "metadata": {},
   "outputs": [
    {
     "name": "stdout",
     "output_type": "stream",
     "text": [
      "B\n"
     ]
    }
   ],
   "source": [
    "print(tuple[4][3])"
   ]
  }
 ],
 "metadata": {
  "kernelspec": {
   "display_name": "Python 3 (ipykernel)",
   "language": "python",
   "name": "python3"
  },
  "language_info": {
   "codemirror_mode": {
    "name": "ipython",
    "version": 3
   },
   "file_extension": ".py",
   "mimetype": "text/x-python",
   "name": "python",
   "nbconvert_exporter": "python",
   "pygments_lexer": "ipython3",
   "version": "3.9.7"
  }
 },
 "nbformat": 4,
 "nbformat_minor": 5
}
