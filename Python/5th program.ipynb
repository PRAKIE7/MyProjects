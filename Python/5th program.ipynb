{
 "cells": [
  {
   "cell_type": "code",
   "execution_count": 5,
   "id": "f51d6fc8",
   "metadata": {},
   "outputs": [
    {
     "name": "stdout",
     "output_type": "stream",
     "text": [
      "enter the value of N=7\n",
      "28\n"
     ]
    }
   ],
   "source": [
    "#Print sum of n natural numbers\n",
    "\n",
    "N= int(input(\"enter the value of N=\"))\n",
    "sum=0\n",
    "while(N>0):\n",
    "    sum=sum+N\n",
    "    N-= 1\n",
    "print(sum)"
   ]
  },
  {
   "cell_type": "code",
   "execution_count": 1,
   "id": "3f01c03e",
   "metadata": {},
   "outputs": [
    {
     "name": "stdin",
     "output_type": "stream",
     "text": [
      "enter the value of n= 2\n"
     ]
    },
    {
     "name": "stdout",
     "output_type": "stream",
     "text": [
      "2\n",
      "4\n",
      "6\n",
      "8\n",
      "10\n",
      "12\n",
      "14\n",
      "16\n",
      "18\n",
      "20\n"
     ]
    }
   ],
   "source": [
    "#Print table of n, where n is entered by user\n",
    "\n",
    "n= int(input(\"enter the value of n=\"))\n",
    "i=1\n",
    "while(i>0):\n",
    "    print(n*i)\n",
    "    if(i == 10):\n",
    "        break\n",
    "    else:\n",
    "        i+= 1"
   ]
  },
  {
   "cell_type": "code",
   "execution_count": 6,
   "id": "5f848a75-26f5-4cc1-a43c-1217e8845ca9",
   "metadata": {},
   "outputs": [
    {
     "name": "stdin",
     "output_type": "stream",
     "text": [
      "enter the value of n= 5\n"
     ]
    },
    {
     "name": "stdout",
     "output_type": "stream",
     "text": [
      "120\n"
     ]
    }
   ],
   "source": [
    "#Print the factorial of the number entered by the user\n",
    "\n",
    "n=int(input(\"enter the value of n=\"))\n",
    "fact=1\n",
    "for x in range(1, n):\n",
    "    fact= fact*n\n",
    "    n-= 1\n",
    "print(fact)"
   ]
  },
  {
   "cell_type": "code",
   "execution_count": 1,
   "id": "37ce90e9-7161-4184-8403-f80e4fc4e69d",
   "metadata": {},
   "outputs": [
    {
     "name": "stdout",
     "output_type": "stream",
     "text": [
      "enter the number of transactions=4\n",
      "10\n",
      "20\n",
      "30\n",
      "40\n",
      "[10.0, 20.0, 30.0, 40.0]\n",
      "25.0\n"
     ]
    }
   ],
   "source": [
    "#Input sales of the month and take out average sales of the month\n",
    "\n",
    "#input of monthly sales\n",
    "n= int(input(\"enter the number of transactions=\"))\n",
    "sales=[]\n",
    "for i in range(0, n):\n",
    "    E= float(input())\n",
    "    sales.append(E)\n",
    "print(sales)\n",
    "\n",
    "#average\n",
    "total=0\n",
    "for i in sales:\n",
    "    total= total + i\n",
    "average_sales= total/n\n",
    "print(average_sales)"
   ]
  }
 ],
 "metadata": {
  "kernelspec": {
   "display_name": "Python 3 (ipykernel)",
   "language": "python",
   "name": "python3"
  },
  "language_info": {
   "codemirror_mode": {
    "name": "ipython",
    "version": 3
   },
   "file_extension": ".py",
   "mimetype": "text/x-python",
   "name": "python",
   "nbconvert_exporter": "python",
   "pygments_lexer": "ipython3",
   "version": "3.9.7"
  }
 },
 "nbformat": 4,
 "nbformat_minor": 5
}
