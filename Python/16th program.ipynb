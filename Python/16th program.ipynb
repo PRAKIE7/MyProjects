{
 "cells": [
  {
   "cell_type": "code",
   "execution_count": 1,
   "id": "4dadfa5c",
   "metadata": {},
   "outputs": [
    {
     "name": "stdout",
     "output_type": "stream",
     "text": [
      "3\n",
      "1\n",
      "10.0\n",
      "100\n",
      "1000.0\n",
      "50\n",
      "500.0\n"
     ]
    }
   ],
   "source": [
    "t=int(input())\n",
    "for i in range(0, t):\n",
    "    N= int(input())\n",
    "    P= N*1000\n",
    "    notebook=P/100\n",
    "    print(notebook)"
   ]
  }
 ],
 "metadata": {
  "kernelspec": {
   "display_name": "Python 3 (ipykernel)",
   "language": "python",
   "name": "python3"
  },
  "language_info": {
   "codemirror_mode": {
    "name": "ipython",
    "version": 3
   },
   "file_extension": ".py",
   "mimetype": "text/x-python",
   "name": "python",
   "nbconvert_exporter": "python",
   "pygments_lexer": "ipython3",
   "version": "3.9.7"
  }
 },
 "nbformat": 4,
 "nbformat_minor": 5
}
