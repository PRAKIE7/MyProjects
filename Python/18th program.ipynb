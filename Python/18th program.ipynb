{
 "cells": [
  {
   "cell_type": "code",
   "execution_count": 1,
   "id": "7fffa491",
   "metadata": {},
   "outputs": [
    {
     "name": "stdout",
     "output_type": "stream",
     "text": [
      "4\n",
      "5\n",
      "10\n",
      "0\n",
      "16\n",
      "5\n",
      "3\n",
      "35\n",
      "7\n",
      "5\n",
      "100\n",
      "1\n",
      "100\n"
     ]
    }
   ],
   "source": [
    "t=int(input())\n",
    "for i in range(0, t):\n",
    "    X= int(input())\n",
    "    Y= int(input())\n",
    "    noc=0\n",
    "    if(X < Y):\n",
    "        print(noc)\n",
    "    elif(X >= Y):\n",
    "        noc= X/Y\n",
    "        print(int(noc))"
   ]
  }
 ],
 "metadata": {
  "kernelspec": {
   "display_name": "Python 3 (ipykernel)",
   "language": "python",
   "name": "python3"
  },
  "language_info": {
   "codemirror_mode": {
    "name": "ipython",
    "version": 3
   },
   "file_extension": ".py",
   "mimetype": "text/x-python",
   "name": "python",
   "nbconvert_exporter": "python",
   "pygments_lexer": "ipython3",
   "version": "3.9.7"
  }
 },
 "nbformat": 4,
 "nbformat_minor": 5
}
