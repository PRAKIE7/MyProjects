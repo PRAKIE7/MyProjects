{
 "cells": [
  {
   "cell_type": "code",
   "execution_count": 1,
   "id": "e903ab6b-bd30-4e2e-8417-4ca6e7e6da0b",
   "metadata": {},
   "outputs": [
    {
     "name": "stdout",
     "output_type": "stream",
     "text": [
      "Exponential\n"
     ]
    },
    {
     "data": {
      "text/plain": [
       "27"
      ]
     },
     "execution_count": 1,
     "metadata": {},
     "output_type": "execute_result"
    }
   ],
   "source": [
    "print(\"Exponential\")\n",
    "3**3"
   ]
  },
  {
   "cell_type": "code",
   "execution_count": 2,
   "id": "ab9adb90-911c-4203-926a-2173d6a1b185",
   "metadata": {},
   "outputs": [
    {
     "data": {
      "text/plain": [
       "105"
      ]
     },
     "execution_count": 2,
     "metadata": {},
     "output_type": "execute_result"
    }
   ],
   "source": [
    "#order of operations followed in python\n",
    "2+10*10+3"
   ]
  },
  {
   "cell_type": "code",
   "execution_count": 3,
   "id": "1b00579f-d14c-4d67-8c75-09987403a7e1",
   "metadata": {},
   "outputs": [
    {
     "data": {
      "text/plain": [
       "156"
      ]
     },
     "execution_count": 3,
     "metadata": {},
     "output_type": "execute_result"
    }
   ],
   "source": [
    "#use of parenthesis for separating the orders\n",
    "(2+10)*(3+10)"
   ]
  },
  {
   "cell_type": "code",
   "execution_count": 4,
   "id": "0770bcbd-0eec-4ef6-b797-4155a8adb1db",
   "metadata": {},
   "outputs": [
    {
     "data": {
      "text/plain": [
       "2.0"
      ]
     },
     "execution_count": 4,
     "metadata": {},
     "output_type": "execute_result"
    }
   ],
   "source": [
    "#can also do roots thsi way\n",
    "4**0.5"
   ]
  },
  {
   "cell_type": "code",
   "execution_count": 5,
   "id": "8372b3c2-a786-4f02-82cc-5a2d097ffcc1",
   "metadata": {},
   "outputs": [],
   "source": [
    "#creating an object 'a' having the value 5\n",
    "a=5"
   ]
  },
  {
   "cell_type": "code",
   "execution_count": 6,
   "id": "f709d52f-83ba-4373-b524-2567a8a3df2e",
   "metadata": {},
   "outputs": [
    {
     "data": {
      "text/plain": [
       "10"
      ]
     },
     "execution_count": 6,
     "metadata": {},
     "output_type": "execute_result"
    }
   ],
   "source": [
    "#adding objects\n",
    "a+a"
   ]
  },
  {
   "cell_type": "code",
   "execution_count": 7,
   "id": "e3b6d31c-dc8e-4baa-bef8-85a05692b742",
   "metadata": {},
   "outputs": [],
   "source": [
    "#reassignment\n",
    "a=10"
   ]
  },
  {
   "cell_type": "code",
   "execution_count": 10,
   "id": "558a31d3-d460-4878-b747-33095fa63556",
   "metadata": {},
   "outputs": [
    {
     "data": {
      "text/plain": [
       "10"
      ]
     },
     "execution_count": 10,
     "metadata": {},
     "output_type": "execute_result"
    }
   ],
   "source": [
    "#check\n",
    "a"
   ]
  },
  {
   "cell_type": "code",
   "execution_count": 19,
   "id": "a808821d-debc-4541-8920-a857c5fd3a7d",
   "metadata": {},
   "outputs": [],
   "source": [
    "#use a to redefine a\n",
    "a=a+a"
   ]
  },
  {
   "cell_type": "code",
   "execution_count": 30,
   "id": "1f46fd7e-56bd-45aa-b9a5-3a8247f032f4",
   "metadata": {},
   "outputs": [
    {
     "data": {
      "text/plain": [
       "10.0"
      ]
     },
     "execution_count": 30,
     "metadata": {},
     "output_type": "execute_result"
    }
   ],
   "source": [
    "#Using object names to keep better track of what's going on in your code\n",
    "income= 100\n",
    "tax_rate= 0.1\n",
    "my_tax= income*tax_rate\n",
    "\n",
    "my_tax"
   ]
  }
 ],
 "metadata": {
  "kernelspec": {
   "display_name": "Python 3 (ipykernel)",
   "language": "python",
   "name": "python3"
  },
  "language_info": {
   "codemirror_mode": {
    "name": "ipython",
    "version": 3
   },
   "file_extension": ".py",
   "mimetype": "text/x-python",
   "name": "python",
   "nbconvert_exporter": "python",
   "pygments_lexer": "ipython3",
   "version": "3.9.7"
  }
 },
 "nbformat": 4,
 "nbformat_minor": 5
}
