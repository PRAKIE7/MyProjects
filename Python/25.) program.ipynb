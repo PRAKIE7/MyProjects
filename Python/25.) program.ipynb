{
 "cells": [
  {
   "cell_type": "code",
   "execution_count": 1,
   "id": "a09d635d",
   "metadata": {},
   "outputs": [
    {
     "name": "stdout",
     "output_type": "stream",
     "text": [
      "3\n",
      "80\n",
      "19\n",
      "20\n",
      "A\n",
      "20\n",
      "55\n",
      "16\n",
      "B\n",
      "50\n",
      "1\n",
      "50\n",
      "NOTA\n"
     ]
    }
   ],
   "source": [
    "#ELECTIONS\n",
    "t=0\n",
    "t=int(input())\n",
    "for i in range(0, t):\n",
    "    Xa=int(input())\n",
    "    Xb=int(input())\n",
    "    Xc=int(input())\n",
    "    if Xa > 50:\n",
    "        print(\"A\")\n",
    "    elif Xb > 50:\n",
    "        print(\"B\")\n",
    "    elif Xc > 50: \n",
    "        print(\"C\")\n",
    "    else:\n",
    "        print(\"NOTA\")"
   ]
  }
 ],
 "metadata": {
  "kernelspec": {
   "display_name": "Python 3 (ipykernel)",
   "language": "python",
   "name": "python3"
  },
  "language_info": {
   "codemirror_mode": {
    "name": "ipython",
    "version": 3
   },
   "file_extension": ".py",
   "mimetype": "text/x-python",
   "name": "python",
   "nbconvert_exporter": "python",
   "pygments_lexer": "ipython3",
   "version": "3.9.7"
  }
 },
 "nbformat": 4,
 "nbformat_minor": 5
}
