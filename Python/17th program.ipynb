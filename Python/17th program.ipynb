{
 "cells": [
  {
   "cell_type": "code",
   "execution_count": 1,
   "id": "5a84faa7",
   "metadata": {},
   "outputs": [
    {
     "name": "stdout",
     "output_type": "stream",
     "text": [
      "3\n",
      "1\n",
      "5\n",
      "BIKE\n",
      "4\n",
      "2\n",
      "CAR\n",
      "6\n",
      "6\n",
      "SAME\n"
     ]
    }
   ],
   "source": [
    "t=int(input())\n",
    "for i in range(0, t):\n",
    "    X=int(input())\n",
    "    Y=int(input())\n",
    "    if(X > Y):\n",
    "        print(\"CAR\")\n",
    "    elif(X < Y):\n",
    "        print(\"BIKE\")\n",
    "    else:\n",
    "        print(\"SAME\")"
   ]
  }
 ],
 "metadata": {
  "kernelspec": {
   "display_name": "Python 3 (ipykernel)",
   "language": "python",
   "name": "python3"
  },
  "language_info": {
   "codemirror_mode": {
    "name": "ipython",
    "version": 3
   },
   "file_extension": ".py",
   "mimetype": "text/x-python",
   "name": "python",
   "nbconvert_exporter": "python",
   "pygments_lexer": "ipython3",
   "version": "3.9.7"
  }
 },
 "nbformat": 4,
 "nbformat_minor": 5
}
