{
 "cells": [
  {
   "cell_type": "code",
   "execution_count": 4,
   "id": "11a853f0",
   "metadata": {},
   "outputs": [
    {
     "name": "stdout",
     "output_type": "stream",
     "text": [
      "4\n",
      "10 20 30\n",
      "30 20 10\n",
      "Sloth\n",
      "5 23 87\n",
      "5 23 87\n",
      "Tie\n",
      "0 15 100\n",
      "100 5 5\n",
      "Sloth\n",
      "50 50 50\n",
      " 50 49 51\n",
      "Dragon\n"
     ]
    }
   ],
   "source": [
    "#EXAMINATION\n",
    "\n",
    "t=int(input())\n",
    "for i in range(0, t):\n",
    "    dragon= list(input())\n",
    "    sloth= list(input())\n",
    "    total1= dragon[0]+ dragon[1]+ dragon[2]\n",
    "    total2= sloth[0]+ sloth[1]+ sloth[2]\n",
    "    if total1 > total2:\n",
    "        print(\"Dragon\")\n",
    "    elif total2 > total1:\n",
    "        print(\"Sloth\")\n",
    "    elif total1 == total2:\n",
    "        if dragon[0] > sloth[0]:\n",
    "            print(\"Dragon\")\n",
    "        elif dragon[0] < sloth[0]:\n",
    "            print(\"Sloth\")\n",
    "        elif dragon[1] > sloth[1]:\n",
    "            print(\"Dragon\")\n",
    "        elif dragon[1] < sloth[1]:\n",
    "            print(\"Sloth\")\n",
    "        elif dragon[1]==sloth[1]:\n",
    "            if dragon[2] > sloth[2]:\n",
    "                print(\"Dragon\")\n",
    "            elif dragon[2] < sloth[2]:\n",
    "                print(\"Sloth\")\n",
    "            else:\n",
    "                print(\"Tie\")"
   ]
  }
 ],
 "metadata": {
  "kernelspec": {
   "display_name": "Python 3 (ipykernel)",
   "language": "python",
   "name": "python3"
  },
  "language_info": {
   "codemirror_mode": {
    "name": "ipython",
    "version": 3
   },
   "file_extension": ".py",
   "mimetype": "text/x-python",
   "name": "python",
   "nbconvert_exporter": "python",
   "pygments_lexer": "ipython3",
   "version": "3.9.7"
  }
 },
 "nbformat": 4,
 "nbformat_minor": 5
}
