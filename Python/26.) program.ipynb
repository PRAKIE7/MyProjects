{
 "cells": [
  {
   "cell_type": "code",
   "execution_count": 14,
   "id": "1ccc581f",
   "metadata": {},
   "outputs": [
    {
     "name": "stdout",
     "output_type": "stream",
     "text": [
      "2\n",
      "9\n",
      "sharechat\n",
      "shizxvzsg\n",
      "4\n",
      "chef\n",
      "sxuv\n"
     ]
    }
   ],
   "source": [
    "#ENCODING\n",
    "    \n",
    "t = int(input())\n",
    "for _ in range(t):\n",
    "    n = int(input())\n",
    "    s = list(input())\n",
    "    length = len(s)\n",
    "    if length % 2 == 1:\n",
    "        length -= 1\n",
    "    for i in range(0, length, 2):\n",
    "        s[i], s[i+1] = s[i+1], s[i]\n",
    "    for ss in s:\n",
    "        con_str = chr(ord('z')+ord('a')-ord(ss))\n",
    "        print(con_str,end=\"\")\n",
    "    print()"
   ]
  }
 ],
 "metadata": {
  "kernelspec": {
   "display_name": "Python 3 (ipykernel)",
   "language": "python",
   "name": "python3"
  },
  "language_info": {
   "codemirror_mode": {
    "name": "ipython",
    "version": 3
   },
   "file_extension": ".py",
   "mimetype": "text/x-python",
   "name": "python",
   "nbconvert_exporter": "python",
   "pygments_lexer": "ipython3",
   "version": "3.9.7"
  }
 },
 "nbformat": 4,
 "nbformat_minor": 5
}
