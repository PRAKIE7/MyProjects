{
 "cells": [
  {
   "cell_type": "code",
   "execution_count": 1,
   "id": "9ddaf13c-6045-4a2e-af4b-7ec556858a20",
   "metadata": {},
   "outputs": [
    {
     "name": "stdout",
     "output_type": "stream",
     "text": [
      "Addition\n"
     ]
    },
    {
     "data": {
      "text/plain": [
       "7"
      ]
     },
     "execution_count": 1,
     "metadata": {},
     "output_type": "execute_result"
    }
   ],
   "source": [
    "print(\"Addition\")\n",
    "3+4"
   ]
  },
  {
   "cell_type": "code",
   "execution_count": 14,
   "id": "a59aa658-39be-4c19-862e-d03ac1dd58b3",
   "metadata": {},
   "outputs": [
    {
     "name": "stdin",
     "output_type": "stream",
     "text": [
      "enter value of A 10\n",
      "enter value of B 15\n"
     ]
    },
    {
     "name": "stdout",
     "output_type": "stream",
     "text": [
      "Addition\n"
     ]
    },
    {
     "data": {
      "text/plain": [
       "25"
      ]
     },
     "execution_count": 14,
     "metadata": {},
     "output_type": "execute_result"
    }
   ],
   "source": [
    "A=int(input(\"enter value of A\"))\n",
    "B=int(input(\"enter value of B\"))\n",
    "print(\"Addition\")\n",
    "A+B"
   ]
  },
  {
   "cell_type": "code",
   "execution_count": 15,
   "id": "a69504d9-1750-4e90-9a85-014de7211e67",
   "metadata": {},
   "outputs": [
    {
     "name": "stdin",
     "output_type": "stream",
     "text": [
      "enter value of A 6\n",
      "enter value of B 5\n"
     ]
    },
    {
     "name": "stdout",
     "output_type": "stream",
     "text": [
      "Subtraction\n"
     ]
    },
    {
     "data": {
      "text/plain": [
       "1"
      ]
     },
     "execution_count": 15,
     "metadata": {},
     "output_type": "execute_result"
    }
   ],
   "source": [
    "A=int(input(\"enter value of A\"))\n",
    "B=int(input(\"enter value of B\"))\n",
    "print(\"Subtraction\")\n",
    "A-B"
   ]
  },
  {
   "cell_type": "code",
   "execution_count": 16,
   "id": "b79c4865-255e-45ee-b65b-4ef5616ebfcd",
   "metadata": {},
   "outputs": [
    {
     "name": "stdin",
     "output_type": "stream",
     "text": [
      "enter value of A 10\n",
      "enter value of B 20\n"
     ]
    },
    {
     "name": "stdout",
     "output_type": "stream",
     "text": [
      "Multiplication\n"
     ]
    },
    {
     "data": {
      "text/plain": [
       "200"
      ]
     },
     "execution_count": 16,
     "metadata": {},
     "output_type": "execute_result"
    }
   ],
   "source": [
    "A=int(input(\"enter value of A\"))\n",
    "B=int(input(\"enter value of B\"))\n",
    "print(\"Multiplication\")\n",
    "A*B"
   ]
  },
  {
   "cell_type": "code",
   "execution_count": 17,
   "id": "d45d1909-8218-4dbb-8c85-261ae99223f0",
   "metadata": {},
   "outputs": [
    {
     "name": "stdin",
     "output_type": "stream",
     "text": [
      "enter value of A 5\n",
      "enter value of B 2\n"
     ]
    },
    {
     "name": "stdout",
     "output_type": "stream",
     "text": [
      "Division\n"
     ]
    },
    {
     "data": {
      "text/plain": [
       "2.5"
      ]
     },
     "execution_count": 17,
     "metadata": {},
     "output_type": "execute_result"
    }
   ],
   "source": [
    "A=int(input(\"enter value of A\"))\n",
    "B=int(input(\"enter value of B\"))\n",
    "print(\"Division\")\n",
    "A/B"
   ]
  },
  {
   "cell_type": "code",
   "execution_count": 20,
   "id": "a20ddec9-21b5-43cd-968f-d9b6085168f2",
   "metadata": {},
   "outputs": [
    {
     "name": "stdin",
     "output_type": "stream",
     "text": [
      "enter value of A 15\n",
      "enter value of B 4\n"
     ]
    },
    {
     "name": "stdout",
     "output_type": "stream",
     "text": [
      "Floor division\n"
     ]
    },
    {
     "data": {
      "text/plain": [
       "3"
      ]
     },
     "execution_count": 20,
     "metadata": {},
     "output_type": "execute_result"
    }
   ],
   "source": [
    "A=int(input(\"enter value of A\"))\n",
    "B=int(input(\"enter value of B\"))\n",
    "print(\"Floor division\")\n",
    "A//B"
   ]
  },
  {
   "cell_type": "code",
   "execution_count": null,
   "id": "c7c2dac9-38d6-4590-a6c6-eb466fdef108",
   "metadata": {},
   "outputs": [],
   "source": []
  }
 ],
 "metadata": {
  "kernelspec": {
   "display_name": "Python 3 (ipykernel)",
   "language": "python",
   "name": "python3"
  },
  "language_info": {
   "codemirror_mode": {
    "name": "ipython",
    "version": 3
   },
   "file_extension": ".py",
   "mimetype": "text/x-python",
   "name": "python",
   "nbconvert_exporter": "python",
   "pygments_lexer": "ipython3",
   "version": "3.9.7"
  }
 },
 "nbformat": 4,
 "nbformat_minor": 5
}
