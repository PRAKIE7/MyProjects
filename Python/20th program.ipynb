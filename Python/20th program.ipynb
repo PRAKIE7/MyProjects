{
 "cells": [
  {
   "cell_type": "code",
   "execution_count": 1,
   "id": "3403fca8",
   "metadata": {},
   "outputs": [
    {
     "name": "stdout",
     "output_type": "stream",
     "text": [
      "3\n",
      "5\n",
      "2\n",
      "3\n",
      "Pass\n",
      "5\n",
      "2\n",
      "4\n",
      "Fail\n",
      "4\n",
      "0\n",
      "0\n",
      "Fail\n"
     ]
    }
   ],
   "source": [
    "t= int(input())\n",
    "for i in range(0, t):\n",
    "    n= int(input())\n",
    "    x= int(input())\n",
    "    p= int(input())\n",
    "    inc= n-x\n",
    "    m= (x*3) + (inc*-1)\n",
    "    if(m >= p):\n",
    "        print(\"Pass\")\n",
    "    else:\n",
    "        print(\"Fail\")"
   ]
  }
 ],
 "metadata": {
  "kernelspec": {
   "display_name": "Python 3 (ipykernel)",
   "language": "python",
   "name": "python3"
  },
  "language_info": {
   "codemirror_mode": {
    "name": "ipython",
    "version": 3
   },
   "file_extension": ".py",
   "mimetype": "text/x-python",
   "name": "python",
   "nbconvert_exporter": "python",
   "pygments_lexer": "ipython3",
   "version": "3.9.7"
  }
 },
 "nbformat": 4,
 "nbformat_minor": 5
}
