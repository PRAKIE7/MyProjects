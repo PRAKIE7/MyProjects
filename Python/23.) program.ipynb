{
 "cells": [
  {
   "cell_type": "code",
   "execution_count": 8,
   "id": "f19a38a3",
   "metadata": {},
   "outputs": [
    {
     "name": "stdout",
     "output_type": "stream",
     "text": [
      "1\n",
      "1\n",
      "2\n",
      "2\n",
      "1\n",
      "3\n",
      "4\n",
      "0\n"
     ]
    }
   ],
   "source": [
    "def swap(x, y):\n",
    "    temp=x\n",
    "    x=y\n",
    "    y=temp\n",
    "\n",
    "t=0\n",
    "t=int(input())\n",
    "for i in range(0, t):\n",
    "    a= int(input())\n",
    "    b= int(input())\n",
    "    a1= int(input())\n",
    "    b1= int(input())\n",
    "    a2= int(input())\n",
    "    b2= int(input())\n",
    "    if a>b:\n",
    "        swap(a,b)\n",
    "    if a1>b1:\n",
    "        swap(a1,b1)\n",
    "    if a2>b2:\n",
    "        swap(a2,b2)\n",
    "    if a==a1 and b==b1:\n",
    "        print(1)\n",
    "    elif a==a2 and b==b2: \n",
    "        print(2)\n",
    "    else:\n",
    "        print(0)"
   ]
  }
 ],
 "metadata": {
  "kernelspec": {
   "display_name": "Python 3 (ipykernel)",
   "language": "python",
   "name": "python3"
  },
  "language_info": {
   "codemirror_mode": {
    "name": "ipython",
    "version": 3
   },
   "file_extension": ".py",
   "mimetype": "text/x-python",
   "name": "python",
   "nbconvert_exporter": "python",
   "pygments_lexer": "ipython3",
   "version": "3.9.7"
  }
 },
 "nbformat": 4,
 "nbformat_minor": 5
}
