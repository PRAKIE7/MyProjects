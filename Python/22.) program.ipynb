{
 "cells": [
  {
   "cell_type": "code",
   "execution_count": null,
   "id": "689afee1",
   "metadata": {},
   "outputs": [],
   "source": [
    "#ATM MACHINE\n",
    "\n",
    "t=0\n",
    "t=int(input())\n",
    "for i in range(0, t):\n",
    "    n=int(input())\n",
    "    k=int(input())\n",
    "    f=[]\n",
    "    arr=[]\n",
    "    for i in range(0, n):\n",
    "        ele= int(input())\n",
    "        \n",
    "        arr.append(ele)\n",
    "    for i in range(0, n):\n",
    "        if arr[i] <= k:\n",
    "            f.append('1')\n",
    "            k=k-arr[i]\n",
    "        else:\n",
    "            f.append('0')\n",
    "    for i in range(len(f)):\n",
    "        print('', join(f[i]))\n",
    "        "
   ]
  }
 ],
 "metadata": {
  "kernelspec": {
   "display_name": "Python 3 (ipykernel)",
   "language": "python",
   "name": "python3"
  },
  "language_info": {
   "codemirror_mode": {
    "name": "ipython",
    "version": 3
   },
   "file_extension": ".py",
   "mimetype": "text/x-python",
   "name": "python",
   "nbconvert_exporter": "python",
   "pygments_lexer": "ipython3",
   "version": "3.9.7"
  }
 },
 "nbformat": 4,
 "nbformat_minor": 5
}
